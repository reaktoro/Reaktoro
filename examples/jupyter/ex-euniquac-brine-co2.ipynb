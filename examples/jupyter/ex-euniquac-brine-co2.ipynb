{
 "cells": [
  {
   "cell_type": "code",
   "execution_count": 4,
   "metadata": {},
   "outputs": [],
   "source": [
    "from reaktoro import *"
   ]
  },
  {
   "cell_type": "code",
   "execution_count": 5,
   "metadata": {},
   "outputs": [],
   "source": [
    "db = Database.embedded(\"ExtendedUNIQUAC.v2023.yaml\")\n",
    "params = Params.embedded(\"ExtendedUNIQUAC.v2023.yaml\")"
   ]
  },
  {
   "cell_type": "code",
   "execution_count": 6,
   "metadata": {},
   "outputs": [],
   "source": [
    "solution = AqueousPhase(speciate(\"H O Na Ba Cl C S\"))\n",
    "solution.setActivityModel(ActivityModelExtendedUNIQUAC(params))\n",
    "\n",
    "system = ChemicalSystem(db, solution)"
   ]
  },
  {
   "cell_type": "code",
   "execution_count": 4,
   "metadata": {},
   "outputs": [],
   "source": [
    "state = ChemicalState(system)\n",
    "state.temperature(60.0, \"celsius\")\n",
    "state.pressure(100.0, \"bar\")\n",
    "state.set(\"H2O\"  , 1.0, \"kg\")\n",
    "state.set(\"Na+\"  , 4.0, \"mol\")\n",
    "state.set(\"Cl-\"  , 3.0, \"mol\")\n",
    "state.set(\"Ba+2\" , 0.5, \"mol\")\n",
    "state.set(\"SO4-2\", 1.0, \"mol\")\n",
    "state.set(\"CO2\"  , 0.2, \"mol\")\n",
    "\n",
    "result = equilibrate(state)"
   ]
  },
  {
   "cell_type": "code",
   "execution_count": 5,
   "metadata": {},
   "outputs": [
    {
     "name": "stdout",
     "output_type": "stream",
     "text": [
      "+---------------------------------+------------+-------+\n",
      "| Property                        |      Value |  Unit |\n",
      "+---------------------------------+------------+-------+\n",
      "| Temperature                     |   333.1500 |     K |\n",
      "| Pressure                        |   100.0000 |   bar |\n",
      "| Ionic Strength (Effective)      |     6.5005 | molal |\n",
      "| Ionic Strength (Stoichiometric) |     6.5005 | molal |\n",
      "| pH                              |     4.0210 |       |\n",
      "| pE                              |     0.0804 |       |\n",
      "| Eh                              |     0.0053 |     V |\n",
      "| Charge Molality                 | 2.4372e-12 | molal |\n",
      "| Element Molality:               |            |       |\n",
      "| :: C                            | 2.0000e-01 | molal |\n",
      "| :: Na                           | 4.0000e+00 | molal |\n",
      "| :: S                            | 1.0000e+00 | molal |\n",
      "| :: Cl                           | 3.0000e+00 | molal |\n",
      "| :: Ba                           | 5.0000e-01 | molal |\n",
      "| Species Molality:               |            |       |\n",
      "| :: CO2                          | 1.9955e-01 | molal |\n",
      "| :: H+                           | 4.5061e-04 | molal |\n",
      "| :: Na+                          | 4.0000e+00 | molal |\n",
      "| :: Ba+2                         | 5.0000e-01 | molal |\n",
      "| :: OH-                          | 9.1333e-11 | molal |\n",
      "| :: Cl-                          | 3.0000e+00 | molal |\n",
      "| :: SO4-2                        | 1.0000e+00 | molal |\n",
      "| :: CO3-2                        | 4.0089e-10 | molal |\n",
      "| :: HCO3-                        | 4.5061e-04 | molal |\n",
      "| Saturation Indices:             |            |       |\n",
      "| :: O2(g)                        |   -58.3592 |     - |\n",
      "| :: H2(g)                        |   -10.1938 |     - |\n",
      "| :: H2O(g)                       |    -2.7832 |     - |\n",
      "| :: CO2(g)                       |    -0.2788 |     - |\n",
      "| :: SO2(g)                       |   -11.2274 |     - |\n",
      "| :: Thenardite :: Na2SO4         |     0.2634 |     - |\n",
      "| :: Halite :: NaCl               |    -0.8268 |     - |\n",
      "| :: Witherite :: BaCO3           |    -2.0087 |     - |\n",
      "| :: BaCl2*H2O                    |    -0.0721 |     - |\n",
      "| :: BaCl2*2H2O                   |     0.2048 |     - |\n",
      "| :: Barite :: BaSO4              |     8.5600 |     - |\n",
      "| Saturation Ratios:              |            |       |\n",
      "| :: O2(g)                        | 4.3735e-59 |     - |\n",
      "| :: H2(g)                        | 6.3998e-11 |     - |\n",
      "| :: H2O(g)                       | 1.6476e-03 |     - |\n",
      "| :: CO2(g)                       | 5.2629e-01 |     - |\n",
      "| :: SO2(g)                       | 5.9232e-12 |     - |\n",
      "| :: Thenardite :: Na2SO4         | 1.8339e+00 |     - |\n",
      "| :: Halite :: NaCl               | 1.4899e-01 |     - |\n",
      "| :: Witherite :: BaCO3           | 9.8016e-03 |     - |\n",
      "| :: BaCl2*H2O                    | 8.4707e-01 |     - |\n",
      "| :: BaCl2*2H2O                   | 1.6025e+00 |     - |\n",
      "| :: Barite :: BaSO4              | 3.6309e+08 |     - |\n",
      "+---------------------------------+------------+-------+\n"
     ]
    }
   ],
   "source": [
    "aprops = AqueousProps(state)\n",
    "\n",
    "print(aprops)"
   ]
  }
 ],
 "metadata": {
  "kernelspec": {
   "display_name": "reaktoro",
   "language": "python",
   "name": "python3"
  },
  "language_info": {
   "codemirror_mode": {
    "name": "ipython",
    "version": 3
   },
   "file_extension": ".py",
   "mimetype": "text/x-python",
   "name": "python",
   "nbconvert_exporter": "python",
   "pygments_lexer": "ipython3",
   "version": "3.11.5"
  }
 },
 "nbformat": 4,
 "nbformat_minor": 2
}
