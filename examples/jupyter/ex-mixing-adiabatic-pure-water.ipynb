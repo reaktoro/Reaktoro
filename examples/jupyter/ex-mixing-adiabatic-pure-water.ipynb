{
 "cells": [
  {
   "cell_type": "code",
   "execution_count": 2,
   "metadata": {},
   "outputs": [],
   "source": [
    "import reaktoro as rk"
   ]
  },
  {
   "cell_type": "code",
   "execution_count": 3,
   "metadata": {},
   "outputs": [],
   "source": [
    "db = rk.NasaDatabase(\"nasa-cea\")\n",
    "\n",
    "liquid = rk.LiquidPhase('H2O(l)')\n",
    "system = rk.ChemicalSystem(db, liquid)"
   ]
  },
  {
   "cell_type": "code",
   "execution_count": 7,
   "metadata": {},
   "outputs": [
    {
     "name": "stdout",
     "output_type": "stream",
     "text": [
      "Initial temperature solution 1: 60 °C\n",
      "Initial temperature solution 2: 50 °C\n",
      "Final temperature of mixed solutions: 55.0006 °C\n"
     ]
    }
   ],
   "source": [
    "# Create a chemical state representative of 1 kg of water at 60°C and 100 kPa\n",
    "state1 = rk.ChemicalState(system)\n",
    "state1.set(\"H2O(l)\", 1.0, \"kg\")\n",
    "state1.temperature(60, 'celsius')\n",
    "state1.pressure(100, \"kPa\")\n",
    "\n",
    "# Create a chemical state representative of 1 kg of water at 50°C and 100 kPa\n",
    "state2 = rk.ChemicalState(system)\n",
    "state2.set(\"H2O(l)\", 1.0, \"kg\")\n",
    "state2.temperature(50, 'celsius')\n",
    "state2.pressure(100, \"kPa\")\n",
    "\n",
    "props1 = rk.ChemicalProps(state1)\n",
    "props2 = rk.ChemicalProps(state2)\n",
    "\n",
    "# Specify conditions that are given at equilibrium \n",
    "specs = rk.EquilibriumSpecs(system)\n",
    "specs.enthalpy()  # equilibrium with given enthalpy\n",
    "specs.pressure()  # equilibrium with given pressure\n",
    "\n",
    "solver = rk.EquilibriumSolver(specs)\n",
    "\n",
    "conditions = rk.EquilibriumConditions(specs)\n",
    "conditions.pressure(100, \"kPa\")\n",
    "conditions.enthalpy(props1.enthalpy() + props2.enthalpy())\n",
    "\n",
    "n1 = state1.speciesAmounts().asarray()\n",
    "n2 = state2.speciesAmounts().asarray()\n",
    "\n",
    "state = rk.ChemicalState(system)\n",
    "state.setSpeciesAmounts(n1 + n2)\n",
    "\n",
    "result = solver.solve(state, conditions)\n",
    "\n",
    "props = rk.ChemicalProps(state)\n",
    "\n",
    "print(f\"Initial temperature solution 1: {state1.temperature() - 273.15} °C\")\n",
    "print(f\"Initial temperature solution 2: {state2.temperature() - 273.15} °C\")\n",
    "print(f\"Final temperature of mixed solutions: {state.temperature() - 273.15} °C\")"
   ]
  }
 ],
 "metadata": {
  "kernelspec": {
   "display_name": "rkt",
   "language": "python",
   "name": "python3"
  },
  "language_info": {
   "codemirror_mode": {
    "name": "ipython",
    "version": 3
   },
   "file_extension": ".py",
   "mimetype": "text/x-python",
   "name": "python",
   "nbconvert_exporter": "python",
   "pygments_lexer": "ipython3",
   "version": "3.9.15"
  },
  "orig_nbformat": 4,
  "vscode": {
   "interpreter": {
    "hash": "dcac387dd960d0b677206bbcc5ffa0bd8f1b8025bf8fea5b6e7db163d980b86f"
   }
  }
 },
 "nbformat": 4,
 "nbformat_minor": 2
}
