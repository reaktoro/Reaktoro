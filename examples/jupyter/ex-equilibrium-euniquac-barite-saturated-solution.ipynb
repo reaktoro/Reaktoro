{
 "cells": [
  {
   "cell_type": "code",
   "execution_count": 1,
   "metadata": {},
   "outputs": [],
   "source": [
    "from reaktoro import *"
   ]
  },
  {
   "cell_type": "code",
   "execution_count": 2,
   "metadata": {},
   "outputs": [],
   "source": [
    "db = Database.embedded(\"ExtendedUNIQUAC.v2024.yaml\")\n",
    "params = Params.embedded(\"ExtendedUNIQUAC.v2024.yaml\")"
   ]
  },
  {
   "cell_type": "code",
   "execution_count": 3,
   "metadata": {},
   "outputs": [],
   "source": [
    "solution = AqueousPhase(speciate(\"H O Na Ba Cl C S\"))\n",
    "solution.setActivityModel(ActivityModelExtendedUNIQUAC(params))\n",
    "\n",
    "system = ChemicalSystem(db, solution)"
   ]
  },
  {
   "cell_type": "code",
   "execution_count": 4,
   "metadata": {},
   "outputs": [
    {
     "data": {
      "text/plain": [
       "+---------------------------------+-------------+-------+\n",
       "| Property                        |       Value |  Unit |\n",
       "+---------------------------------+-------------+-------+\n",
       "| Temperature                     |    333.1500 |     K |\n",
       "| Pressure                        |    100.0000 |   bar |\n",
       "| Ionic Strength (Effective)      |      6.5005 | molal |\n",
       "| Ionic Strength (Stoichiometric) |      6.5005 | molal |\n",
       "| pH                              |      4.0220 |       |\n",
       "| pE                              |      0.0790 |       |\n",
       "| Eh                              |      0.0052 |     V |\n",
       "| Alkalinity                      |        -inf |  eq/L |\n",
       "| Charge Molality                 |  2.4366e-12 | molal |\n",
       "| Element Molality:               |             |       |\n",
       "| :: C                            |  2.0000e-01 | molal |\n",
       "| :: Na                           |  4.0000e+00 | molal |\n",
       "| :: S                            |  1.0000e+00 | molal |\n",
       "| :: Cl                           |  3.0000e+00 | molal |\n",
       "| :: Ba                           |  5.0000e-01 | molal |\n",
       "| Species Molality:               |             |       |\n",
       "| :: CO2                          |  1.9955e-01 | molal |\n",
       "| :: HCO3-                        |  4.5153e-04 | molal |\n",
       "| :: CO3-2                        |  4.0482e-10 | molal |\n",
       "| :: Na+                          |  4.0000e+00 | molal |\n",
       "| :: Ba+2                         |  5.0000e-01 | molal |\n",
       "| :: H+                           |  4.4867e-04 | molal |\n",
       "| :: Cl-                          |  3.0000e+00 | molal |\n",
       "| :: HSO4-                        |  2.8659e-06 | molal |\n",
       "| :: SO4-2                        |  1.0000e+00 | molal |\n",
       "| :: OH-                          |  9.9294e-11 | molal |\n",
       "| Saturation Indices:             |             |       |\n",
       "| :: H2O(g)                       |     -2.7831 |     - |\n",
       "| :: HCl(g)                       |     -9.6313 |     - |\n",
       "| :: CO2(g)                       |     -0.2773 |     - |\n",
       "| :: Na2SO4*10H2O                 |     -1.2326 |     - |\n",
       "| :: Ice :: H2O                   |     -0.3183 |     - |\n",
       "| :: H2SO4                        |    -14.9971 |     - |\n",
       "| :: Barite :: BaSO4              |      8.5558 |     - |\n",
       "| :: Ba(OH)2*8H2O                 |   -458.4766 |     - |\n",
       "| :: Ba(OH)2*3H2O                 |   -266.2927 |     - |\n",
       "| :: Ba(OH)2*H2O                  |   -193.5190 |     - |\n",
       "| :: Ba(OH)2                      |    -21.6057 |     - |\n",
       "| :: BaCl2*2H2O                   |      0.2000 |     - |\n",
       "| :: BaCl2*H2O                    |     -0.0769 |     - |\n",
       "| :: BaCl2                        |     -1.1114 |     - |\n",
       "| :: Witherite :: BaCO3           |     -1.6164 |     - |\n",
       "| :: Ba(HCO3)2                    |   -343.2141 |     - |\n",
       "| :: NaHCO3                       |     -2.8211 |     - |\n",
       "| :: Thenardite :: Na2SO4         |      0.2600 |     - |\n",
       "| :: Na2SO4*NaHSO4*H2O            |   -791.3678 |     - |\n",
       "| :: Na2SO4*NaHSO4                |   -754.9809 |     - |\n",
       "| :: NaHSO4*H2O                   |    -41.9607 |     - |\n",
       "| :: NaHSO4                       |     -5.5738 |     - |\n",
       "| :: NaOH                         |    -15.6328 |     - |\n",
       "| :: NaCl*2H2O                    |     -1.0387 |     - |\n",
       "| :: Halite :: NaCl               |     -0.8290 |     - |\n",
       "| :: Na2CO3*2Na2SO4               |     -8.1861 |     - |\n",
       "| :: Na2CO3*NaHCO3*2H2O           |    -11.9399 |     - |\n",
       "| :: Na2CO3*3NaHCO3               |    -18.0789 |     - |\n",
       "| :: Na2CO3*10H2O                 |    -10.6683 |     - |\n",
       "| :: Na2CO3*7H2O                  |    -10.3566 |     - |\n",
       "| :: Na2CO3*H2O                   |     -9.8604 |     - |\n",
       "| :: Na2CO3                       |    -10.1502 |     - |\n",
       "| Saturation Ratios:              |             |       |\n",
       "| :: H2O(g)                       |  1.6478e-03 |     - |\n",
       "| :: HCl(g)                       |  2.3372e-10 |     - |\n",
       "| :: CO2(g)                       |  5.2811e-01 |     - |\n",
       "| :: Na2SO4*10H2O                 |  5.8527e-02 |     - |\n",
       "| :: Ice :: H2O                   |  4.8056e-01 |     - |\n",
       "| :: H2SO4                        |  1.0066e-15 |     - |\n",
       "| :: Barite :: BaSO4              |  3.5954e+08 |     - |\n",
       "| :: Ba(OH)2*8H2O                 |  0.0000e+00 |     - |\n",
       "| :: Ba(OH)2*3H2O                 | 5.0971e-267 |     - |\n",
       "| :: Ba(OH)2*H2O                  | 3.0272e-194 |     - |\n",
       "| :: Ba(OH)2                      |  2.4792e-22 |     - |\n",
       "| :: BaCl2*2H2O                   |  1.5849e+00 |     - |\n",
       "| :: BaCl2*H2O                    |  8.3765e-01 |     - |\n",
       "| :: BaCl2                        |  7.7382e-02 |     - |\n",
       "| :: Witherite :: BaCO3           |  2.4189e-02 |     - |\n",
       "| :: Ba(HCO3)2                    |  0.0000e+00 |     - |\n",
       "| :: NaHCO3                       |  1.5097e-03 |     - |\n",
       "| :: Thenardite :: Na2SO4         |  1.8195e+00 |     - |\n",
       "| :: Na2SO4*NaHSO4*H2O            |  0.0000e+00 |     - |\n",
       "| :: Na2SO4*NaHSO4                |  0.0000e+00 |     - |\n",
       "| :: NaHSO4*H2O                   |  1.0947e-42 |     - |\n",
       "| :: NaHSO4                       |  2.6679e-06 |     - |\n",
       "| :: NaOH                         |  2.3293e-16 |     - |\n",
       "| :: NaCl*2H2O                    |  9.1478e-02 |     - |\n",
       "| :: Halite :: NaCl               |  1.4827e-01 |     - |\n",
       "| :: Na2CO3*2Na2SO4               |  6.5148e-09 |     - |\n",
       "| :: Na2CO3*NaHCO3*2H2O           |  1.1484e-12 |     - |\n",
       "| :: Na2CO3*3NaHCO3               |  8.3389e-19 |     - |\n",
       "| :: Na2CO3*10H2O                 |  2.1463e-11 |     - |\n",
       "| :: Na2CO3*7H2O                  |  4.3991e-11 |     - |\n",
       "| :: Na2CO3*H2O                   |  1.3792e-10 |     - |\n",
       "| :: Na2CO3                       |  7.0765e-11 |     - |\n",
       "+---------------------------------+-------------+-------+"
      ]
     },
     "execution_count": 4,
     "metadata": {},
     "output_type": "execute_result"
    }
   ],
   "source": [
    "state = ChemicalState(system)\n",
    "state.temperature(60.0, \"celsius\")\n",
    "state.pressure(100.0, \"bar\")\n",
    "state.set(\"H2O\"  , 1.0, \"kg\")\n",
    "state.set(\"Na+\"  , 4.0, \"mol\")\n",
    "state.set(\"Cl-\"  , 3.0, \"mol\")\n",
    "state.set(\"Ba+2\" , 0.5, \"mol\")\n",
    "state.set(\"SO4-2\", 1.0, \"mol\")\n",
    "state.set(\"CO2\"  , 0.2, \"mol\")\n",
    "\n",
    "result = equilibrate(state)\n",
    "\n",
    "aprops = AqueousProps(state)\n",
    "\n",
    "aprops"
   ]
  },
  {
   "cell_type": "code",
   "execution_count": null,
   "metadata": {},
   "outputs": [],
   "source": []
  }
 ],
 "metadata": {
  "kernelspec": {
   "display_name": "reaktoro",
   "language": "python",
   "name": "python3"
  },
  "language_info": {
   "codemirror_mode": {
    "name": "ipython",
    "version": 3
   },
   "file_extension": ".py",
   "mimetype": "text/x-python",
   "name": "python",
   "nbconvert_exporter": "python",
   "pygments_lexer": "ipython3",
   "version": "3.11.7"
  }
 },
 "nbformat": 4,
 "nbformat_minor": 2
}
