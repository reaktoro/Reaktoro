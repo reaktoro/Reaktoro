{
 "cells": [
  {
   "cell_type": "code",
   "execution_count": 1,
   "metadata": {},
   "outputs": [],
   "source": [
    "import reaktoro as rkt\n",
    "\n",
    "db = rkt.Database.fromFile(\"euniquac-GarciaThesis2005.yaml\")"
   ]
  },
  {
   "cell_type": "code",
   "execution_count": 2,
   "metadata": {},
   "outputs": [],
   "source": [
    "params = rkt.Params.embedded(\"ExtendedUNIQUAC/GarciaThesis2005.yaml\")\n",
    "\n",
    "solution = rkt.AqueousPhase()\n",
    "solution.set(rkt.ActivityModelExtendedUNIQUAC(params))\n",
    "\n",
    "minerals = rkt.MineralPhases(\"CaSO4 CaSO4*2H2O\")\n",
    "\n",
    "system = rkt.ChemicalSystem(db, solution, minerals)"
   ]
  },
  {
   "cell_type": "code",
   "execution_count": 3,
   "metadata": {},
   "outputs": [
    {
     "name": "stdout",
     "output_type": "stream",
     "text": [
      "The result should be True but currently is: **False**\n"
     ]
    }
   ],
   "source": [
    "state = rkt.ChemicalState(system)\n",
    "state.temperature(20.0, \"°C\")\n",
    "state.pressure(1000.0, \"bar\")\n",
    "state.set(\"H2O\", 1.0, \"kg\")\n",
    "state.set(\"CaSO4\", 10.0, \"mol\")\n",
    "\n",
    "options = rkt.EquilibriumOptions()\n",
    "options.optima.output.active = True\n",
    "\n",
    "result = rkt.equilibrate(state, options)\n",
    "\n",
    "print(f\"The result should be True but currently is: **{result.succeeded()}**\")"
   ]
  },
  {
   "cell_type": "code",
   "execution_count": 4,
   "metadata": {},
   "outputs": [
    {
     "name": "stdout",
     "output_type": "stream",
     "text": [
      "The result should be True but currently is: **False**\n"
     ]
    }
   ],
   "source": [
    "state = rkt.ChemicalState(system)\n",
    "state.temperature(15.0, \"°C\")\n",
    "state.pressure(10.0, \"bar\")\n",
    "state.set(\"H2O\", 1.0, \"kg\")\n",
    "state.set(\"CaSO4\", 10.0, \"mol\")\n",
    "\n",
    "result = rkt.equilibrate(state, options)\n",
    "\n",
    "print(f\"The result should be True but currently is: **{result.succeeded()}**\")"
   ]
  },
  {
   "cell_type": "code",
   "execution_count": 5,
   "metadata": {},
   "outputs": [
    {
     "name": "stdout",
     "output_type": "stream",
     "text": [
      "This calculation is working however: **True**\n"
     ]
    }
   ],
   "source": [
    "state = rkt.ChemicalState(system)\n",
    "state.temperature(30.0, \"°C\")\n",
    "state.pressure(10.0, \"bar\")\n",
    "state.set(\"H2O\", 1.0, \"kg\")\n",
    "state.set(\"CaSO4\", 10.0, \"mol\")\n",
    "\n",
    "result = rkt.equilibrate(state, options)\n",
    "\n",
    "print(f\"This calculation is working however: **{result.succeeded()}**\")"
   ]
  },
  {
   "cell_type": "code",
   "execution_count": null,
   "metadata": {},
   "outputs": [],
   "source": []
  }
 ],
 "metadata": {
  "kernelspec": {
   "display_name": "reaktoro",
   "language": "python",
   "name": "python3"
  },
  "language_info": {
   "codemirror_mode": {
    "name": "ipython",
    "version": 3
   },
   "file_extension": ".py",
   "mimetype": "text/x-python",
   "name": "python",
   "nbconvert_exporter": "python",
   "pygments_lexer": "ipython3",
   "version": "3.11.5"
  },
  "orig_nbformat": 4,
  "vscode": {
   "interpreter": {
    "hash": "387758dfda61d7350b6ccaae89e4cce8da91f062138ef2d7de42419b500afb21"
   }
  }
 },
 "nbformat": 4,
 "nbformat_minor": 2
}
